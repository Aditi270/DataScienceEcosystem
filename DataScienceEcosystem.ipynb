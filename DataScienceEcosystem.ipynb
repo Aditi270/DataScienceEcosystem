{
 "cells": [
  {
   "cell_type": "markdown",
   "id": "8e32fb02",
   "metadata": {},
   "source": [
    "# Data Science Tools and Ecosystem"
   ]
  },
  {
   "cell_type": "markdown",
   "id": "1d7c1e92",
   "metadata": {},
   "source": [
    "In this notebook, Data Science Tools and Ecosystem are summarized."
   ]
  },
  {
   "cell_type": "markdown",
   "id": "dcad42cb",
   "metadata": {},
   "source": [
    "Some of the popular languages that Data Scientists use are:\n",
    "\n",
    "1.) Python\n",
    "\n",
    "2.) R\n",
    "\n",
    "3.) Java\n",
    "\n",
    "4.) SQL"
   ]
  },
  {
   "cell_type": "markdown",
   "id": "a7e5d2e6",
   "metadata": {},
   "source": [
    "Some of the commonly used libraries used by Data Scientists include:\n",
    "\n",
    "1.)NumPy\n",
    "\n",
    "2.)Keras\n",
    "\n",
    "3.)Pandas\n",
    "\n",
    "4.)PyTorch\n",
    "\n",
    "5.)SciPy\n",
    "\n",
    "6.)Scikit-Learn"
   ]
  },
  {
   "cell_type": "markdown",
   "id": "147a58ee",
   "metadata": {},
   "source": [
    "Create a markdown cell with a table of Data Science tools\n",
    "\n",
    "| Data Science Tools | \n",
    "|:-------------------|\n",
    "|    Apache Hadoop   | \n",
    "|       Tableau      |\n",
    "|     TensorFlow     | "
   ]
  },
  {
   "cell_type": "markdown",
   "id": "6f40744a",
   "metadata": {},
   "source": [
    "\n",
    "Create a markdown cell introducing arithmetic expression examples\n",
    "\n",
    "1.)+\n",
    "\n",
    "2.)-\n",
    "\n",
    "3.)*\n",
    "\n",
    "4.)/\n",
    "\n",
    "5.)< >\n"
   ]
  },
  {
   "cell_type": "code",
   "execution_count": 1,
   "id": "96ecc3a6",
   "metadata": {},
   "outputs": [
    {
     "data": {
      "text/plain": [
       "14"
      ]
     },
     "execution_count": 1,
     "metadata": {},
     "output_type": "execute_result"
    }
   ],
   "source": [
    "#This a simple arithmetic expression to mutiply then add integers\n",
    "(2*5)+4"
   ]
  },
  {
   "cell_type": "code",
   "execution_count": 4,
   "id": "5a691967",
   "metadata": {},
   "outputs": [
    {
     "data": {
      "text/plain": [
       "3.3333333333333335"
      ]
     },
     "execution_count": 4,
     "metadata": {},
     "output_type": "execute_result"
    }
   ],
   "source": [
    "#This will convert 200 minutes to hours by diving by 60.\n",
    "200/60"
   ]
  },
  {
   "cell_type": "markdown",
   "id": "edf9cc12",
   "metadata": {},
   "source": [
    "OBJECTIVES:\n",
    "- List popular languages for Data Science\n",
    "- Arithmetic solving\n",
    "- List tools used in data science\n",
    "\n",
    "\n",
    "\n",
    "\n"
   ]
  },
  {
   "cell_type": "markdown",
   "id": "2b2c189f",
   "metadata": {},
   "source": [
    "# # AUTHOR:\n",
    "Aditi Jaiswal\n",
    "\n"
   ]
  },
  {
   "cell_type": "code",
   "execution_count": null,
   "id": "894aeafd",
   "metadata": {},
   "outputs": [],
   "source": []
  }
 ],
 "metadata": {
  "kernelspec": {
   "display_name": "Python 3 (ipykernel)",
   "language": "python",
   "name": "python3"
  },
  "language_info": {
   "codemirror_mode": {
    "name": "ipython",
    "version": 3
   },
   "file_extension": ".py",
   "mimetype": "text/x-python",
   "name": "python",
   "nbconvert_exporter": "python",
   "pygments_lexer": "ipython3",
   "version": "3.11.3"
  }
 },
 "nbformat": 4,
 "nbformat_minor": 5
}
